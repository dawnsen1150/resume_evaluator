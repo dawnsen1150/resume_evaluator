{
 "cells": [
  {
   "cell_type": "markdown",
   "metadata": {},
   "source": [
    "Importing libraries"
   ]
  },
  {
   "cell_type": "code",
   "execution_count": 93,
   "metadata": {},
   "outputs": [
    {
     "data": {
      "text/plain": [
       "True"
      ]
     },
     "execution_count": 93,
     "metadata": {},
     "output_type": "execute_result"
    }
   ],
   "source": [
    "from langchain_openai import ChatOpenAI\n",
    "import openai\n",
    "from langchain_core.prompts.chat import (\n",
    "    ChatPromptTemplate,\n",
    "    PromptTemplate,\n",
    "    SystemMessagePromptTemplate,\n",
    "    AIMessagePromptTemplate,\n",
    "    HumanMessagePromptTemplate,\n",
    ")\n",
    "# from pydantic import BaseModel, Field, validator\n",
    "from langchain_core.pydantic_v1 import BaseModel, Field, validator\n",
    "from langchain.output_parsers import PydanticOutputParser \n",
    "from langchain.chains import LLMChain\n",
    "from PyPDF2 import PdfReader\n",
    "from langchain.output_parsers.json import SimpleJsonOutputParser\n",
    "from langchain_core.output_parsers import JsonOutputParser\n",
    "import os\n",
    "from dotenv import load_dotenv\n",
    "load_dotenv()"
   ]
  },
  {
   "cell_type": "markdown",
   "metadata": {},
   "source": [
    "Defining the LLM"
   ]
  },
  {
   "cell_type": "code",
   "execution_count": 94,
   "metadata": {},
   "outputs": [],
   "source": [
    "llm=ChatOpenAI(model=\"gpt-4o-mini\",api_key=os.getenv('API'))"
   ]
  },
  {
   "cell_type": "markdown",
   "metadata": {},
   "source": [
    "Extracting resume text"
   ]
  },
  {
   "cell_type": "code",
   "execution_count": 95,
   "metadata": {},
   "outputs": [],
   "source": [
    "pdf_doc=['Resume (test1).pdf']"
   ]
  },
  {
   "cell_type": "code",
   "execution_count": 96,
   "metadata": {},
   "outputs": [],
   "source": [
    "for pdf in pdf_doc:\n",
    "    pdf_reader = PdfReader(pdf)\n",
    "    text = \"\"\n",
    "    for page in pdf_reader.pages:\n",
    "        text += page.extract_text()"
   ]
  },
  {
   "cell_type": "markdown",
   "metadata": {},
   "source": [
    "Requirments"
   ]
  },
  {
   "cell_type": "code",
   "execution_count": 97,
   "metadata": {},
   "outputs": [],
   "source": [
    "requirements='''\n",
    "Deep understanding of modern machine learning techniques and algorithms.\n",
    "Must demonstrate exceptional aptitude in descriptive and inferential statistics.\n",
    "Extremely detail-oriented and self-motivated.\n",
    "Experience with time series data.\n",
    "Extensive experience working with large data.\n",
    "Competent skills in programming languages such as Python, R, C/#/++.\n",
    "5 years of experince in data science\n",
    "'''\n"
   ]
  },
  {
   "cell_type": "markdown",
   "metadata": {},
   "source": [
    "Creating the output purser"
   ]
  },
  {
   "cell_type": "code",
   "execution_count": 98,
   "metadata": {},
   "outputs": [],
   "source": [
    "class identity(BaseModel):\n",
    "    name:str=Field(description=\"name of the applicant\")\n",
    "    phone:str=Field(description=\"phone number of the applicant\")\n",
    "    email:str=Field(description=\"email of the applicant\")\n",
    "    requirement:list[str]=Field(description=\"list whether a requirement is fully met or not. if not, mention which criteria is not met.\")\n",
    "    conclusion:str=Field(description=\"please provide the criteria which are not met.There should be only one item in the list.\")\n",
    "\n",
    "\n",
    "pydantic_parser=JsonOutputParser(pydantic_object=identity)\n",
    "\n",
    "\n",
    "# json_parser = SimpleJsonOutputParser()"
   ]
  },
  {
   "cell_type": "markdown",
   "metadata": {},
   "source": [
    "Building the prompt and chaining prompt, LLM and output perser"
   ]
  },
  {
   "cell_type": "code",
   "execution_count": 107,
   "metadata": {},
   "outputs": [],
   "source": [
    "\n",
    "# System Prompt\n",
    "system_template='''You are an AI recruitment assistant that specializes in evaluating candidate resume.Based on the applicant's resume and job requirements given by the user,Provide the name,the phone number and the email of the applicant.The phone number needs to be in numeric. Don't add any bracket or plus sign into it.Now,Tell whether the applicant met each of the requirements. If a requirement is fully met (each criteria mentioned in the requirement), provide yes.If a requirement is not fully met, provide no. If a criteria in a requirement is not fully met, please provide the criteria which is not met.Do not miss any criteria.Return the full requirements with your evaluation.Don't just return the requirement numbers.Finally, write a short conclusion within 50 words to tell which criteria is not met by the applicant.Return the results in JSON format. Key for the requiremnts should be the whole line provided as input.'''\n",
    "\n",
    "\n",
    "system_message_prompt=SystemMessagePromptTemplate.from_template(system_template)\n",
    "\n",
    "\n",
    "# Human Template and chain\n",
    "human_template='''\n",
    "{resume},{requirements}\n",
    "'''\n",
    "human_message_prompt=HumanMessagePromptTemplate.from_template(human_template)\n",
    "\n",
    "chat_prompt=ChatPromptTemplate(messages=[system_message_prompt,human_message_prompt],input_variables=['resume','requirements'],partial_variables={'format_instructions':pydantic_parser.get_format_instructions()})\n",
    "\n",
    "# partial_variables={'format_instructions':pydantic_parser.get_format_instructions()}\n",
    "\n",
    "chain=chat_prompt | llm | pydantic_parser"
   ]
  },
  {
   "cell_type": "code",
   "execution_count": 108,
   "metadata": {},
   "outputs": [],
   "source": [
    "result=chain.invoke({\"resume\":text,\"requirements\":requirements})"
   ]
  },
  {
   "cell_type": "code",
   "execution_count": 109,
   "metadata": {},
   "outputs": [
    {
     "data": {
      "text/plain": [
       "dict"
      ]
     },
     "execution_count": 109,
     "metadata": {},
     "output_type": "execute_result"
    }
   ],
   "source": [
    "type(result)"
   ]
  },
  {
   "cell_type": "code",
   "execution_count": 110,
   "metadata": {},
   "outputs": [
    {
     "data": {
      "text/plain": [
       "{'name': 'Kritika Jajoo',\n",
       " 'phone': '8135399688',\n",
       " 'email': 'jajoo@usf.edu',\n",
       " 'requirements': {'Deep understanding of modern machine learning techniques and algorithms.': 'yes',\n",
       "  'Must demonstrate exceptional aptitude in descriptive and inferential statistics.': 'no',\n",
       "  'Extremely detail-oriented and self-motivated.': 'yes',\n",
       "  'Experience with time series data.': 'no',\n",
       "  'Extensive experience working with large data.': 'yes',\n",
       "  'Competent skills in programming languages such as Python, R, C#/C++': 'no',\n",
       "  '5 years of experience in data science': 'no'},\n",
       " 'conclusion': 'The applicant does not meet the requirements for demonstrating exceptional aptitude in statistics, experience with time series data, competent skills in C#/C++, and lacks the required 5 years of experience in data science.'}"
      ]
     },
     "execution_count": 110,
     "metadata": {},
     "output_type": "execute_result"
    }
   ],
   "source": [
    "result"
   ]
  }
 ],
 "metadata": {
  "kernelspec": {
   "display_name": "lang",
   "language": "python",
   "name": "python3"
  },
  "language_info": {
   "codemirror_mode": {
    "name": "ipython",
    "version": 3
   },
   "file_extension": ".py",
   "mimetype": "text/x-python",
   "name": "python",
   "nbconvert_exporter": "python",
   "pygments_lexer": "ipython3",
   "version": "3.11.3"
  }
 },
 "nbformat": 4,
 "nbformat_minor": 2
}
